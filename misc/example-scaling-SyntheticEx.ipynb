{
 "cells": [
  {
   "cell_type": "code",
   "execution_count": 1,
   "metadata": {},
   "outputs": [],
   "source": [
    "# A synthetic example to show the effect of scaling on (distance based) classification\n",
    "\n",
    "import numpy as np\n",
    "\n",
    "# assume points X1, Y1 belong to a class, class 1.\n",
    "X1 = np.array([1.1, 2.0, 2.9, 3.5, 4.5])\n",
    "Y1 = np.array([1.1, 1.3, 1.1, 1.2, 1.4])\n",
    "\n",
    "# assume points X2, Y2 belong to a class, class 2.\n",
    "X2 = np.array([7.0, 7.9, 8.5, 9.0, 9.9])\n",
    "Y2 = np.array([0.6, 0.7, 0.7, 0.5, 0.6])\n",
    "\n",
    "# Is test point closer to points in class 1 or class 2?\n",
    "X3 = np.array([6.0])\n",
    "Y3 = np.array([1.0])"
   ]
  },
  {
   "cell_type": "code",
   "execution_count": 2,
   "metadata": {},
   "outputs": [
    {
     "name": "stdout",
     "output_type": "stream",
     "text": [
      "Xmean:  5.63\n",
      "Ymean:  0.9199999999999999\n",
      "Xsd:  3.1941091611485875\n",
      "Ysd:  0.33266599866332397\n",
      "X1, X2: [1.1 2.  2.9 3.5 4.5 7.  7.9 8.5 9.  9.9]\n",
      "X1scaled, X2scaled: [-1.41823581 -1.13646711 -0.8546984  -0.6668526  -0.35377626  0.42891458\n",
      "  0.71068329  0.89852909  1.05506726  1.33683596]\n"
     ]
    }
   ],
   "source": [
    "# Let us scale the points by using the formula xs = (x - Xmean)/XstdDev.\n",
    "\n",
    "Xmean = np.mean(np.concatenate([X1, X2]))\n",
    "Ymean = np.mean(np.concatenate([Y1, Y2]))\n",
    "\n",
    "# ddof = 1 uses formula for sample SD. otherwise formula for population SD is used.\n",
    "Xsd = np.std(np.concatenate([X1, X2]), ddof=1)\n",
    "Ysd = np.std(np.concatenate([Y1, Y2]), ddof=1)\n",
    "\n",
    "X1scaled = (X1 - Xmean) / Xsd\n",
    "Y1scaled = (Y1 - Ymean) / Ysd\n",
    "\n",
    "X2scaled = (X2 - Xmean) / Xsd\n",
    "Y2scaled = (Y2 - Ymean) / Ysd\n",
    "\n",
    "X3scaled = (X3 - Xmean) / Xsd\n",
    "Y3scaled = (Y3 - Ymean) / Ysd\n",
    "\n",
    "print(\"Xmean: \", Xmean)\n",
    "print(\"Ymean: \", Ymean)\n",
    "print(\"Xsd: \", Xsd)\n",
    "print(\"Ysd: \", Ysd)\n",
    "\n",
    "print(\"X1, X2:\", np.concatenate([X1, X2]))\n",
    "print(\"X1scaled, X2scaled:\", np.concatenate([X1scaled, X2scaled]))"
   ]
  },
  {
   "cell_type": "code",
   "execution_count": 3,
   "metadata": {},
   "outputs": [],
   "source": [
    "ydelta = 0.1\n",
    "xdelta = 1.0\n",
    "XMin = np.min(np.concatenate([X1, X2, X1scaled, X2scaled])) - xdelta\n",
    "XMax = np.max(np.concatenate([X1, X2, X1scaled, X2scaled])) + xdelta\n",
    "YMin = np.min(np.concatenate([Y1, Y2, Y1scaled, Y2scaled])) - ydelta\n",
    "YMax = np.max(np.concatenate([Y1, Y2, Y1scaled, Y2scaled])) + ydelta"
   ]
  },
  {
   "cell_type": "code",
   "execution_count": 4,
   "metadata": {},
   "outputs": [
    {
     "data": {
      "image/png": "[encoded data removed]",
      "text/plain": [
       "<Figure size 432x288 with 1 Axes>"
      ]
     },
     "metadata": {
      "needs_background": "light"
     },
     "output_type": "display_data"
    }
   ],
   "source": [
    "import matplotlib.pyplot as plt\n",
    "%matplotlib inline\n",
    "\n",
    "fig = plt.figure()\n",
    "\n",
    "plt.ylim(YMin, YMax)\n",
    "plt.xlim(XMin, XMax)\n",
    "\n",
    "# fig=plt.figure(figsize=(10, 1.5))\n",
    "\n",
    "# unscaled = fig.add_subplot(1, 1, 1)\n",
    "\n",
    "plt.scatter(X1, Y1, color='g')\n",
    "plt.scatter(X2, Y2, color='b')\n",
    "plt.scatter(X3, Y3, color='r')\n",
    "\n",
    "plt.show()\n",
    "\n",
    "# Plot seems to show it is closer to class 2."
   ]
  },
  {
   "cell_type": "code",
   "execution_count": 5,
   "metadata": {},
   "outputs": [
    {
     "data": {
      "image/png": "[encoded data removed]",
      "text/plain": [
       "<Figure size 432x288 with 1 Axes>"
      ]
     },
     "metadata": {
      "needs_background": "light"
     },
     "output_type": "display_data"
    }
   ],
   "source": [
    "# Plot the points before being scaled and after being scaled.\n",
    "\n",
    "\n",
    "fig = plt.figure()\n",
    "\n",
    "plt.ylim(YMin, YMax)\n",
    "plt.xlim(XMin, XMax)\n",
    "\n",
    "# delta = 0.1\n",
    "# plt.xlim(XMin-delta, XMax+delta)\n",
    "# plt.ylim(YMin-delta, YMax+delta)\n",
    "\n",
    "# unscaled.scatter(X1, Y1, color='g')\n",
    "# unscaled.scatter(X2, Y2, color='b')\n",
    "# unscaled.scatter(x3, y3, color='r')\n",
    "\n",
    "\n",
    "\n",
    "plt.scatter(X1scaled, Y1scaled, color='g')\n",
    "plt.scatter(X2scaled, Y2scaled, color='b')\n",
    "plt.scatter(X3scaled, Y3scaled, color='r')\n",
    "\n",
    "plt.show()\n",
    "\n",
    "# Plot seems to show that (x3, y3) is closer to class 1."
   ]
  },
  {
   "cell_type": "code",
   "execution_count": null,
   "metadata": {},
   "outputs": [],
   "source": []
  },
  {
   "cell_type": "code",
   "execution_count": null,
   "metadata": {
    "collapsed": true
   },
   "outputs": [],
   "source": []
  }
 ],
 "metadata": {
  "kernelspec": {
   "display_name": "Python 3",
   "language": "python",
   "name": "python3"
  },
  "language_info": {
   "codemirror_mode": {
    "name": "ipython",
    "version": 3
   },
   "file_extension": ".py",
   "mimetype": "text/x-python",
   "name": "python",
   "nbconvert_exporter": "python",
   "pygments_lexer": "ipython3",
   "version": "3.7.3"
  }
 },
 "nbformat": 4,
 "nbformat_minor": 2
}
